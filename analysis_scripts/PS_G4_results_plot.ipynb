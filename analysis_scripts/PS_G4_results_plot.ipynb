{
 "cells": [
  {
   "cell_type": "markdown",
   "id": "b1fed382-d8eb-4a41-a658-eb9e02ae77e6",
   "metadata": {},
   "source": [
    "# Read the output of a set of Geant4 PositronSource simulations and plot them"
   ]
  },
  {
   "cell_type": "markdown",
   "id": "29ffa6b6-2469-45d8-bce5-94e8b8d184cf",
   "metadata": {},
   "source": [
    "## Import the required libraries"
   ]
  },
  {
   "cell_type": "code",
   "execution_count": null,
   "id": "3764e2c2-8cb7-4b89-9d5c-1e1379a1207d",
   "metadata": {
    "tags": []
   },
   "outputs": [],
   "source": [
    "import numpy as np\n",
    "import pandas as pd\n",
    "import matplotlib.pyplot as plt\n",
    "#%matplotlib ipympl\n",
    "from matplotlib.ticker import AutoMinorLocator\n",
    "import os\n",
    "import uproot\n",
    "import math\n",
    "import re\n",
    "from scipy import interpolate\n",
    "import json \n",
    "\n",
    "from G4_utils import *\n",
    "#from G4_read_output_files import *\n",
    "\n",
    "# Set the number of digits to show in pandas dataframes\n",
    "pd.set_option('display.float_format', '{:.2f}'.format)\n",
    "\n",
    "# Ignore SettingWithCopyWarning in Pandas\n",
    "pd.options.mode.chained_assignment = None  # default='warn'"
   ]
  },
  {
   "cell_type": "markdown",
   "id": "b12394a6-daae-4b8e-a458-28cae054a7a4",
   "metadata": {
    "tags": []
   },
   "source": [
    "## Set input path and base filename"
   ]
  },
  {
   "cell_type": "code",
   "execution_count": null,
   "id": "cbebf6ec-61ad-4e71-b856-d4afdb3c18d6",
   "metadata": {
    "tags": []
   },
   "outputs": [],
   "source": [
    "#path_G4 = \"/home/paterno/geant4-apps/PositronSource-build/output/results_2.86GeV_sigma1.0mm_W5-20mm_conventional_gp/analysis_output/\"\n",
    "#basename_G4 = \"2.86GeV_sigma1.0mm_W5-20mm_conventional\"\n",
    "#plot_title = \"Conventional Source, e- beam at 2.86 GeV (r.m.s. size 1.0 mm), room temperature\"\n",
    "#fig_height = 700\n",
    "\n",
    "path_G4 = \"/home/paterno/geant4-apps/PositronSource-build/output/results_2.86GeV_sigma1.0mm_W8-16mm_crystalline_gp/analysis_output/\"\n",
    "basename_G4 = \"2.86GeV_sigma1.0mm_W8-16mm_crystalline\"\n",
    "plot_title = \"crystalline source, e- beam at 2.86 GeV (r.m.s. size 1.0 mm), room temperature\"\n",
    "fig_height = 350\n",
    "\n",
    "#path_G4 = \"/home/paterno/geant4-apps/PositronSource-build/output/results_2.86GeV_sigma1.0mm_W12mm_crystalline_mis_HT_gp/analysis_output/\"\n",
    "#basename_G4 = \"2.86GeV_sigma1.0mm_W12mm_crystalline_mis_HT\"\n",
    "#plot_title = \"crystalline source, e- beam at 2.86 GeV (r.m.s. size 1.0 mm), W12mm, misalignment study, high temperature (600 K)\"\n",
    "#fig_height = 450\n",
    "\n",
    "#path_G4 = \"/home/paterno/geant4-apps/PositronSource-build/output/results_6GeV_sigma0.5mm_W4-24mm_conventional_gp/analysis_output/\"\n",
    "#basename_G4 = \"6GeV_sigma0.5mm_W4-24mm_conventional\"\n",
    "#plot_title = \"Conventional Source, e- beam at 6 GeV (r.m.s. size 0.5 mm), room temperature\"\n",
    "#correct_values = True\n",
    "#fig_height = 800\n",
    "\n",
    "#path_G4 = \"/home/paterno/geant4-apps/PositronSource-build/output/results_6GeV_sigma0.5mm_W9-15mm_crystalline_gp/analysis_output/\"\n",
    "#basename_G4 = \"6GeV_sigma0.5mm_W9-15mm_crystalline\"\n",
    "#plot_title = \"crystalline source, e- beam at 6 GeV (r.m.s. size 0.5 mm), room temperature\"\n",
    "#fig_height = 300\n",
    "\n",
    "#path_G4 = \"/home/paterno/geant4-apps/PositronSource-build/output/results_6GeV_sigma0.5mm_W12mm_crystalline_mis_HT_gp/analysis_output/\"\n",
    "#basename_G4 = \"6GeV_sigma0.5mm_W12mm_crystalline_mis_HT\"\n",
    "#plot_title = \"crystalline source, e- beam at 6 GeV (r.m.s. size 0.5 mm), W12mm, misalignment study, high temperature (600 K)\"\n",
    "#fig_height = 450\n",
    "\n",
    "#path_G4 = \"/home/paterno/geant4-apps/PositronSource-build/output/results_6GeV_sigma0.5mm_W_radiator1-2mm_D0cm_target11.6mm_gp/analysis_output/\"\n",
    "#basename_G4 = \"6GeV_sigma0.5mm_W_radiator1-2mm_D0cm_target11.6mm\"\n",
    "#plot_title = \"Hybrid Source, e- beam at 6 GeV (r.m.s. size 0.5 mm), room temperature\"\n",
    "#fig_height = 450\n",
    "\n",
    "#path_G4 = \"/home/paterno/geant4-apps/PositronSource-build/output/results_6GeV_sigma0.5mm_W_radiator2mm_D0cm_target6-12mm_gp/analysis_output/\"\n",
    "#basename_G4 = \"6GeV_sigma0.5mm_W_radiator2mm_D0cm_target6-12mm\"\n",
    "#plot_title = \"Hybrid Source, e- beam at 6 GeV (r.m.s. size 0.5 mm), room temperature\"\n",
    "#fig_height = 350\n",
    "\n",
    "#path_G4 = \"/home/paterno/geant4-apps/PositronSource-build/output/results_6GeV_sigma0.5mm_W_radiator2mm_D50cm_target6-15mm_gp/analysis_output/\"\n",
    "#basename_G4 = \"6GeV_sigma0.5mm_W_radiator2mm_D50cm_target6-15mm\"\n",
    "#plot_title = \"Hybrid Source, e- beam at 6 GeV (r.m.s. size 0.5 mm), room temperature\"\n",
    "#fig_height = 400\n",
    "\n",
    "\n",
    "Ne = 1e4 #Number of simulated events (electrons)"
   ]
  },
  {
   "cell_type": "markdown",
   "id": "cb39acca-7b4f-4cd3-b6e1-b72de3545a0d",
   "metadata": {},
   "source": [
    "## Save and export settings"
   ]
  },
  {
   "cell_type": "code",
   "execution_count": null,
   "id": "545347b3-aa91-40f9-9328-e3a768189208",
   "metadata": {},
   "outputs": [],
   "source": [
    "save_results = True\n",
    "outpath = path_G4"
   ]
  },
  {
   "cell_type": "markdown",
   "id": "f15d32c1-4c2e-4a06-8a92-fddf15a84f83",
   "metadata": {},
   "source": [
    "## Get a dataframe with the results of a set of Geant4 PositronSource simulations"
   ]
  },
  {
   "cell_type": "code",
   "execution_count": null,
   "id": "d6fce543-ce1d-429b-899f-d6c795c3520f",
   "metadata": {
    "tags": []
   },
   "outputs": [],
   "source": [
    "df_G4 = pd.read_json(path_G4 + 'results' + '.json')\n",
    "df_G4.insert(8, 'Edep_rad[GeV/e-]', np.array(df_G4['Edep_rad[MeV/e-]'])*0.001)\n",
    "df_G4 = df_G4.drop(columns=['Edep_rad[MeV/e-]'])\n",
    "df_G4"
   ]
  },
  {
   "cell_type": "markdown",
   "id": "bf5b0753-8bdd-4059-94d5-fba2d34f24a1",
   "metadata": {},
   "source": [
    "## Substitute some values (to avoid outliers)"
   ]
  },
  {
   "cell_type": "code",
   "execution_count": null,
   "id": "1ca10683-b814-46f8-8c20-29f283a244cc",
   "metadata": {
    "tags": []
   },
   "outputs": [],
   "source": [
    "if 'correct_values' in locals() and correct_values == True:\n",
    "    i2c = [12, 17]\n",
    "    for i in i2c:\n",
    "        df_G4.iloc[i,7] = (df_G4.iloc[i-2,7] + df_G4.iloc[i-1,7] + df_G4.iloc[i+1,7] + df_G4.iloc[i+2,7]) / 4 #for conventional\n",
    "else:\n",
    "    print(\"No automatic correction for outliers applied. Manual correction may be carried out, PAY ATTENTION!\")\n",
    "    #i = 7\n",
    "    #df_G4.iloc[i,7] = (df_G4.iloc[i-2,7] + df_G4.iloc[i-1,7] + df_G4.iloc[i+1,7] + df_G4.iloc[i+2,7]) / 4 #Hybrid, D=50cm"
   ]
  },
  {
   "cell_type": "markdown",
   "id": "4e61a7ff-4175-4b6e-9848-13a229a30db1",
   "metadata": {},
   "source": [
    "## Calculate the rotation value for xticks"
   ]
  },
  {
   "cell_type": "code",
   "execution_count": null,
   "id": "ea8ebfe2-942b-408f-84dd-b8203285bd3b",
   "metadata": {
    "tags": []
   },
   "outputs": [],
   "source": [
    "len_th = 10\n",
    "rot_value = 45 if len(df_G4.iloc[-1].case) > len_th or len(df_G4.iloc[1:]) > len_th else 0\n",
    "\n",
    "if len(df_G4.iloc[0].case) > len_th:\n",
    "    if 'conventional' in path_G4 or 'crystalline' in path_G4:\n",
    "        case_list_short = [item.split('W')[1].split('_')[0] for item in df_G4.case.values] #conventional or crystalline\n",
    "    elif 'mis' in path_G4:\n",
    "        case_list_short = [item.split('mis')[1].split('_')[0] for item in df_G4.case.values] #crystalline, misalignment - HT\n",
    "    else:\n",
    "        case_list_short = [item.split('target')[1] for item in df_G4.case.values] #Hybrid\n",
    "    df_G4.case = case_list_short\n",
    "    print(case_list_short)"
   ]
  },
  {
   "cell_type": "markdown",
   "id": "216a412f-ea4e-450d-ba38-59b1e751a27a",
   "metadata": {},
   "source": [
    "## Change the column names"
   ]
  },
  {
   "cell_type": "code",
   "execution_count": null,
   "id": "e2220754-b910-44e2-b6ef-2edd3666d0db",
   "metadata": {},
   "outputs": [],
   "source": [
    "df_col_map = {\n",
    "    'yield_ph' : 'photon Yield',\n",
    "    'yield_n' : 'neutron Yield',\n",
    "    'yield_e-' : 'electron Yield',\n",
    "    'yield_e+' : 'positron Yield',\n",
    "    'e+_mean_size_fit[mm]' : \"e+ beam mean size [mm]\",\n",
    "    'e+_mean_div_fit[mrad]' : \"e+ beam mean div [mrad]\",  \n",
    "    'e+_mean_E[MeV]' : \"e+ beam mean E [MeV]\",\n",
    "    'e+_spread_E[sigma/mu]' : \"e+ beam spread E\",\n",
    "    'Edep_rad[GeV/e-]' : 'Edep_rad [GeV/e-]',\n",
    "    'Edep_conv[GeV/e-]' : 'Edep_conv [GeV/e-]',\n",
    "    'PEDD[MeV/(mm^3*e-)]' : 'PEDD [MeV / (mm^3 e-)]',\n",
    "}\n",
    "\n",
    "df_plot = df_G4.rename(columns=df_col_map)"
   ]
  },
  {
   "cell_type": "markdown",
   "id": "0b722843-ea18-4e4b-853e-29dee5d9d0d8",
   "metadata": {
    "tags": []
   },
   "source": [
    "## Save the dataframe to a figure"
   ]
  },
  {
   "cell_type": "code",
   "execution_count": null,
   "id": "8c979494-f6e4-4cf4-842e-8f9b2d4b97ba",
   "metadata": {
    "tags": []
   },
   "outputs": [],
   "source": [
    "if save_results:\n",
    "    save_dataframe(df_plot, outpath+\"results_\"+basename_G4, plot_title, figsize=(1600, fig_height), header_fontsize=16, cell_fontsize=16)"
   ]
  },
  {
   "cell_type": "markdown",
   "id": "d14e39f3-5628-4417-91f2-9892c5984bce",
   "metadata": {},
   "source": [
    "## Plot the columns of the dafaframe"
   ]
  },
  {
   "cell_type": "code",
   "execution_count": null,
   "id": "fed543f3-a3ea-4f56-9d3b-88519c409ff9",
   "metadata": {},
   "outputs": [],
   "source": [
    "for j in range(1, len(df_plot.columns)-1): \n",
    "    fig = plt.figure(figsize=(16, 10))\n",
    "    fs = 18\n",
    "    lw = 2\n",
    "    ms = 8\n",
    "    plt.plot(df_plot.case, df_plot.iloc[:,j].values, color='royalblue', \\\n",
    "             linestyle='-', linewidth=lw, marker='o', markersize=ms, label='Accepted yield')\n",
    "    #plt.legend(loc='lower right', fontsize=fs*0.65)\n",
    "    plt.title(plot_title, fontsize=fs*0.75)\n",
    "    plt.xlabel(\"case\", fontsize=fs)\n",
    "    plt.ylabel(df_plot.iloc[:,j].name, fontsize=fs)\n",
    "    plt.xticks(fontsize=fs, rotation=rot_value)\n",
    "    plt.yticks(fontsize=fs, rotation=0)\n",
    "    #plt.ylim([0.5, 1.5])\n",
    "    #plt.axvspan(1, 5, alpha=0.5, color='bisque')\n",
    "    plt.grid(which=\"major\", color=\"gray\", linestyle=\"--\", linewidth=1)\n",
    "    if save_results:\n",
    "        plotVarName = df_G4.iloc[:,j].name.replace('/','_')\n",
    "        plt.savefig(outpath+plotVarName+\"_\"+basename_G4+\".jpg\", dpi=300)\n",
    "    plt.show()"
   ]
  },
  {
   "cell_type": "code",
   "execution_count": null,
   "id": "de97cec4-9f06-4fc5-a22a-e41728329e05",
   "metadata": {},
   "outputs": [],
   "source": []
  }
 ],
 "metadata": {
  "kernelspec": {
   "display_name": "Python 3 (ipykernel)",
   "language": "python",
   "name": "python3"
  },
  "language_info": {
   "codemirror_mode": {
    "name": "ipython",
    "version": 3
   },
   "file_extension": ".py",
   "mimetype": "text/x-python",
   "name": "python",
   "nbconvert_exporter": "python",
   "pygments_lexer": "ipython3",
   "version": "3.11.4"
  }
 },
 "nbformat": 4,
 "nbformat_minor": 5
}

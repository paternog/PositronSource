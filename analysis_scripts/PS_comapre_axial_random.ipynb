{
 "cells": [
  {
   "cell_type": "markdown",
   "id": "b1fed382-d8eb-4a41-a658-eb9e02ae77e6",
   "metadata": {},
   "source": [
    "# Read the output of a Geant4 PositronSource simulation"
   ]
  },
  {
   "cell_type": "markdown",
   "id": "29ffa6b6-2469-45d8-bce5-94e8b8d184cf",
   "metadata": {},
   "source": [
    "## Import the required libraries"
   ]
  },
  {
   "cell_type": "code",
   "execution_count": null,
   "id": "3764e2c2-8cb7-4b89-9d5c-1e1379a1207d",
   "metadata": {
    "tags": []
   },
   "outputs": [],
   "source": [
    "import numpy as np\n",
    "import pandas as pd\n",
    "import matplotlib.pyplot as plt\n",
    "#%matplotlib ipympl\n",
    "from matplotlib.ticker import AutoMinorLocator\n",
    "import os\n",
    "import uproot\n",
    "import math\n",
    "import re\n",
    "from scipy import interpolate\n",
    "\n",
    "from G4_utils import *\n",
    "from G4_read_output_files import *\n",
    "\n",
    "# Set the number of digits to show in pandas dataframes\n",
    "pd.set_option('display.float_format', '{:.2f}'.format)\n",
    "\n",
    "import warnings\n",
    "warnings.simplefilter(\"ignore\")\n",
    "pd.options.mode.chained_assignment = None\n",
    "\n",
    "# tic\n",
    "#import time\n",
    "#start = time.time()"
   ]
  },
  {
   "cell_type": "markdown",
   "id": "b12394a6-daae-4b8e-a458-28cae054a7a4",
   "metadata": {
    "tags": []
   },
   "source": [
    "## Set input path and base filenames"
   ]
  },
  {
   "cell_type": "code",
   "execution_count": null,
   "id": "cbebf6ec-61ad-4e71-b856-d4afdb3c18d6",
   "metadata": {
    "tags": []
   },
   "outputs": [],
   "source": [
    "path_conv = \"/home/paterno/geant4-apps/PositronSource-build/output/results_6GeV_sigma0.5mm_W4-24mm_conventional_gp/\"\n",
    "name_conv = \"output_6GeV_W17.0mm_conventional\"\n",
    "\n",
    "path = \"/home/paterno/geant4-apps/PositronSource-build/output/results_6GeV_sigma0.5mm_W_radiator2mm_D0cm_target6-12mm_gp/\"\n",
    "name = \"output_6GeV_W2.0mm_D0cm_target10.0mm\""
   ]
  },
  {
   "cell_type": "markdown",
   "id": "69c5ad7f-f62b-4c95-a1ed-144dda88cec9",
   "metadata": {},
   "source": [
    "## save and export settings"
   ]
  },
  {
   "cell_type": "code",
   "execution_count": null,
   "id": "9d7a6d4a-e1c4-4a57-a388-5e66a5c6242e",
   "metadata": {},
   "outputs": [],
   "source": [
    "# Figure save option\n",
    "saveFigs = False"
   ]
  },
  {
   "cell_type": "markdown",
   "id": "60605cbf-1850-4d71-a3f1-d3373e464913",
   "metadata": {},
   "source": [
    "## Set output path"
   ]
  },
  {
   "cell_type": "code",
   "execution_count": null,
   "id": "57131664-c6b4-42d5-8c79-a12214c51ae6",
   "metadata": {
    "tags": []
   },
   "outputs": [],
   "source": [
    "# Define the output folder\n",
    "outpath = path + \"analysis_output/\"\n",
    "if not os.path.exists(outpath):\n",
    "    os.makedirs(outpath)"
   ]
  },
  {
   "cell_type": "markdown",
   "id": "c6b6cb45-6e46-4679-90b5-6e543b5d568b",
   "metadata": {},
   "source": [
    "## Read the root file for the random (conventional) source"
   ]
  },
  {
   "cell_type": "code",
   "execution_count": null,
   "id": "b02b8041-a300-4c89-9a89-1ca2a7cff2dd",
   "metadata": {
    "tags": []
   },
   "outputs": [],
   "source": [
    "print(\"\\nopening rf:\", name_conv ,\".root file ...\")\n",
    "\n",
    "rf_conv = uproot.open(path_conv + name_conv + \".root\")\n",
    "df_conv = rf_conv['scoring_ntuple'].arrays(library='pd')\n",
    "\n",
    "df_conv_in_conv = df_conv[(df_conv.screenID == 0)].copy().drop([\"screenID\"], axis=1)\n",
    "df_conv_out_conv = df_conv[(df_conv.screenID == 1)].copy().drop([\"screenID\"], axis=1)\n",
    "del df_conv\n",
    "\n",
    "df_ph_conv = df_conv_out_conv[(df_conv_out_conv.particle == \"gamma\")].copy()\n",
    "df_pos_conv = df_conv_out_conv[(df_conv_out_conv.particle == \"e+\")].copy()\n",
    "print('\\nphotons:', df_ph_conv.shape[0])\n",
    "print('gamma:', df_pos_conv.shape[0], '\\n')\n",
    "\n",
    "df_ph_conv[\"P\"] = (df_ph_conv.px*df_ph_conv.px + df_ph_conv.py*df_ph_conv.py + df_ph_conv.pz*df_ph_conv.pz)**0.5 #MeV\n",
    "df_pos_conv[\"P\"] = (df_pos_conv.px*df_pos_conv.px + df_pos_conv.py*df_pos_conv.py + df_pos_conv.pz*df_pos_conv.pz)**0.5 #MeV "
   ]
  },
  {
   "cell_type": "markdown",
   "id": "8c779b26-1bc9-49c3-a7b9-7d1289460e12",
   "metadata": {
    "tags": []
   },
   "source": [
    "## Read the root file for the hybrid source"
   ]
  },
  {
   "cell_type": "code",
   "execution_count": null,
   "id": "78e5a25f-0a7c-4af5-ad45-91eca1af2231",
   "metadata": {
    "tags": []
   },
   "outputs": [],
   "source": [
    "print(\"\\nopening rf:\", name ,\".root file ...\")\n",
    "\n",
    "rf = uproot.open(path + name + \".root\")\n",
    "rf_content = [item.split(';')[0] for item in rf.keys()]\n",
    "#print('rf_content:', rf_content)\n",
    "\n",
    "#screenID: 2=after the Radiator (if used), 0=before the Converter, 1=after the Converter (or the single-crystal)\n",
    "#particle: Geant4 particle name\n",
    "#x,y are in [mm]\n",
    "#px,py,pz are in [MeV/c]\n",
    "#t is in [ns]\n",
    "#branches = [\"screenID\", \"particle\", \"x\", \"y\", \"px\", \"py\", \"pz\", \"t\", \"eventID\"]\n",
    "df = rf['scoring_ntuple'].arrays(library='pd')\n",
    "\n",
    "if 'eventID' in df:\n",
    "    Nevents = len(np.array(df.eventID.unique()))\n",
    "else:\n",
    "    Nevents = 1.e4\n",
    "print(\"Nevents:\", Nevents) #number of simulated events (primary particles)\n",
    "\n",
    "df_rad_out = df[(df.screenID == 2)].copy().drop([\"screenID\"], axis=1)\n",
    "df_conv_in = df[(df.screenID == 0)].copy().drop([\"screenID\"], axis=1)\n",
    "df_conv_out = df[(df.screenID == 1)].copy().drop([\"screenID\"], axis=1)\n",
    "#df_wrong = df[(df.screenID == -1)].copy().drop([\"screenID\"], axis=1)\n",
    "del df\n",
    "\n",
    "df_ph = df_conv_in[(df_conv_in.particle == \"gamma\")].copy()\n",
    "df_pos = df_conv_out[(df_conv_out.particle == \"e+\")].copy()\n",
    "print('\\nphotons:', df_ph.shape[0])\n",
    "print('gamma:', df_pos.shape[0], '\\n')\n",
    "\n",
    "df_ph[\"P\"] = (df_ph.px*df_ph.px + df_ph.py*df_ph.py + df_ph.pz*df_ph.pz)**0.5 #MeV\n",
    "df_pos[\"P\"] = (df_pos.px*df_pos.px + df_pos.py*df_pos.py + df_pos.pz*df_pos.pz)**0.5 #MeV  "
   ]
  },
  {
   "cell_type": "markdown",
   "id": "3190fcce-76b8-48e5-92d1-93db9eec9fd1",
   "metadata": {},
   "source": [
    "### Import the required libraries"
   ]
  },
  {
   "cell_type": "code",
   "execution_count": null,
   "id": "7f1578f2-2913-4dc4-8c1a-7556fd84faeb",
   "metadata": {
    "tags": []
   },
   "outputs": [],
   "source": [
    "from scipy.optimize import curve_fit\n",
    "from matplotlib.colors import LogNorm\n",
    "\n",
    "import succolib as sl #Mattia's package (install it with: pip install succolib)\n",
    "\n",
    "### Set plot style ###\n",
    "import mplhep as hep\n",
    "import plot_settings as settings\n",
    "\n",
    "style = settings.style #use this with \"import plot_settings as settings\"\n",
    "style['figure.figsize'] = (style['figure.figsize'][0], 8.50) #manual tweak to figure height\n",
    "plt.style.use(style)"
   ]
  },
  {
   "cell_type": "markdown",
   "id": "f33236b5-250d-4560-83b0-c9fc7574704f",
   "metadata": {},
   "source": [
    "### Plot the photon spectrum emitted by the Radiator crystal "
   ]
  },
  {
   "cell_type": "code",
   "execution_count": null,
   "id": "30aabcff-7a56-41af-a3b4-1990b9f91dfa",
   "metadata": {
    "tags": []
   },
   "outputs": [],
   "source": [
    "nbin_gamma = 50\n",
    "range_gamma = (50, 2050)\n",
    "\n",
    "spectrum_Eph_conv, edges_Eph = np.histogram(df_ph_conv.P, density=True, bins=nbin_gamma, range=range_gamma)\n",
    "bin_Eph = edges_Eph[:-1] + (edges_Eph[1]-edges_Eph[0])*0.5\n",
    "spectral_int_Eph_conv = spectrum_Eph_conv * bin_Eph\n",
    "\n",
    "spectrum_Eph, _ = np.histogram(df_ph.P, density=True, bins=nbin_gamma, range=range_gamma)\n",
    "spectral_int_Eph = spectrum_Eph * bin_Eph\n",
    "\n",
    "fig = plt.figure(figsize=(11, 7))\n",
    "fs = 16\n",
    "lw = 2\n",
    "opacity = 0.75\n",
    "plt.plot(bin_Eph, spectral_int_Eph_conv, linewidth=lw, alpha=opacity, label='random')\n",
    "plt.plot(bin_Eph, spectral_int_Eph, linewidth=lw, alpha=opacity, label='axial')\n",
    "plt.legend()\n",
    "plt.xlabel('Energy [MeV]')\n",
    "#plt.ylabel('1/N$\\\\times$dN/dE')\n",
    "plt.ylabel('1/N$\\\\times$E(dN/dE)')\n",
    "plt.title('Emitted photons')\n",
    "plt.grid(True)\n",
    "#plt.yscale('log')\n",
    "if saveFigs:\n",
    "    plt.savefig(outpath + 'spectal_intensity_axial_random_' + purename + '.jpg')\n",
    "plt.show()"
   ]
  },
  {
   "cell_type": "code",
   "execution_count": null,
   "id": "149ca33d-4b8e-4a57-b88f-589e2e97cccd",
   "metadata": {},
   "outputs": [],
   "source": []
  }
 ],
 "metadata": {
  "kernelspec": {
   "display_name": "Python 3 (ipykernel)",
   "language": "python",
   "name": "python3"
  },
  "language_info": {
   "codemirror_mode": {
    "name": "ipython",
    "version": 3
   },
   "file_extension": ".py",
   "mimetype": "text/x-python",
   "name": "python",
   "nbconvert_exporter": "python",
   "pygments_lexer": "ipython3",
   "version": "3.12.9"
  }
 },
 "nbformat": 4,
 "nbformat_minor": 5
}
